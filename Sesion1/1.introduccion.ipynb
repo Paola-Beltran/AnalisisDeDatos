{
 "cells": [
  {
   "cell_type": "code",
   "execution_count": 1,
   "metadata": {},
   "outputs": [
    {
     "name": "stdout",
     "output_type": "stream",
     "text": [
      "Hola\n"
     ]
    }
   ],
   "source": [
    "print(\"Hola\")"
   ]
  },
  {
   "cell_type": "code",
   "execution_count": 3,
   "metadata": {},
   "outputs": [
    {
     "name": "stdout",
     "output_type": "stream",
     "text": [
      "Falso\n",
      "hola\n"
     ]
    }
   ],
   "source": [
    "#Indentacion\n",
    "v1 = 3\n",
    "\n",
    "if v1 == 6:\n",
    "    print(\"verdadero\")\n",
    "    print(\"WWW\")\n",
    "else:\n",
    "    print(\"Falso\")\n",
    "\n",
    "#cuando se sale de la sangria ya no corresponde al bloque de codigo\n",
    "print(\"hola\")"
   ]
  },
  {
   "cell_type": "code",
   "execution_count": 4,
   "metadata": {},
   "outputs": [],
   "source": [
    "#Comentarios\n",
    "# Validar Variable1\n",
    "\n",
    "def my_func():\n",
    "    \"\"\"\n",
    "    esta funcion hace x cosa\n",
    "    variable entrada:\n",
    "    salida:\n",
    "    \"\"\"\n",
    "    pass"
   ]
  },
  {
   "cell_type": "code",
   "execution_count": 5,
   "metadata": {},
   "outputs": [],
   "source": [
    "# Variables en Python\n",
    "\n",
    "var1 = 5\n",
    "var2 = \"Datapath\"\n",
    "var3 = 2.0\n",
    "var4 = 4j"
   ]
  },
  {
   "cell_type": "code",
   "execution_count": 6,
   "metadata": {},
   "outputs": [
    {
     "name": "stdout",
     "output_type": "stream",
     "text": [
      "<class 'complex'>\n"
     ]
    }
   ],
   "source": [
    "print(type(var4))"
   ]
  },
  {
   "cell_type": "code",
   "execution_count": 7,
   "metadata": {},
   "outputs": [],
   "source": [
    "a, b, c = \"Manzana\", \"Platano\", \"Cereza\""
   ]
  },
  {
   "cell_type": "code",
   "execution_count": 11,
   "metadata": {},
   "outputs": [
    {
     "name": "stdout",
     "output_type": "stream",
     "text": [
      "Mundo\n",
      "Hola\n"
     ]
    }
   ],
   "source": [
    "# Variables locales\n",
    "\n",
    "x = \"Hola\"\n",
    "\n",
    "def my_func():\n",
    "    x = \"Mundo\" # Variable local solo en este contexto\n",
    "    print(x)\n",
    "\n",
    "my_func()\n",
    "print(x)"
   ]
  },
  {
   "cell_type": "code",
   "execution_count": 12,
   "metadata": {},
   "outputs": [],
   "source": [
    "# Tipos de datos en python\n",
    "# String\n",
    "# Numericos\n",
    "# Listas\n",
    "# Diccionarios\n",
    "# Tuplas\n"
   ]
  },
  {
   "cell_type": "code",
   "execution_count": 14,
   "metadata": {},
   "outputs": [
    {
     "name": "stdout",
     "output_type": "stream",
     "text": [
      "Hola Mundo\n",
      "a\n",
      "Hola \n"
     ]
    }
   ],
   "source": [
    "# String \n",
    "\n",
    "a_str = \"Hola Mundo\"\n",
    "print(a_str)\n",
    "print(a_str[3])\n",
    "print(a_str[0:5])"
   ]
  },
  {
   "cell_type": "code",
   "execution_count": 15,
   "metadata": {},
   "outputs": [],
   "source": [
    "# Tipos numericos\n",
    "\n",
    "a = 5\n",
    "b = 2.0\n",
    "c = 4j"
   ]
  },
  {
   "cell_type": "code",
   "execution_count": 16,
   "metadata": {},
   "outputs": [],
   "source": [
    "# Tipo de datos Listas\n",
    "lista1 = [3, 5, 7] # lista de enteros\n",
    "\n",
    "lista2 = [\"hola\", \"mundo\" ] #lista de Strings\n",
    "\n",
    "lista3 = [3, \"Hola\", 44.4, 5j] #lista mixta\n",
    "\n",
    "lista4 = [3, \"Hola\", 44.4, 5j, [1, 4, 6]] # lista anidada (una lista dentro de otra lista)\n",
    "\n",
    "lista5 = [] # lista vacia"
   ]
  },
  {
   "cell_type": "code",
   "execution_count": 17,
   "metadata": {},
   "outputs": [
    {
     "name": "stdout",
     "output_type": "stream",
     "text": [
      "3\n",
      "Hola\n",
      "44.4\n",
      "5j\n"
     ]
    }
   ],
   "source": [
    "# Operador de indice []\n",
    "\n",
    "print(lista3[0]) # Primer elemento\n",
    "print(lista3[1]) # Segundo elemento\n",
    "print(lista3[2]) # tercer elemento\n",
    "print(lista3[3]) # cuarto elemento"
   ]
  },
  {
   "cell_type": "code",
   "execution_count": 19,
   "metadata": {},
   "outputs": [
    {
     "name": "stdout",
     "output_type": "stream",
     "text": [
      "6\n"
     ]
    }
   ],
   "source": [
    "print(lista4[4][2])\n",
    "\n",
    "# Nota los indices deben ser enteros o de rango"
   ]
  },
  {
   "cell_type": "code",
   "execution_count": 20,
   "metadata": {},
   "outputs": [
    {
     "name": "stdout",
     "output_type": "stream",
     "text": [
      "5j\n"
     ]
    }
   ],
   "source": [
    "print(lista3[-1]) # se obtiene ultimo elemento de la lista, cuando se ponde - toma de izquierda a derecha"
   ]
  },
  {
   "cell_type": "code",
   "execution_count": 4,
   "metadata": {},
   "outputs": [
    {
     "name": "stdout",
     "output_type": "stream",
     "text": [
      "[4, 6, 7, 8]\n"
     ]
    }
   ],
   "source": [
    "lista6 = [1, 4, 6, 7, 8, 99, 78, 10]\n",
    "\n",
    "print(lista6[1:5]) # 1 es el primer valor indice inicial, pero el indice 5 es 99 sin embargo no lo imprime, cuando se ponde rango toma siempre el N-1 es decir hasta el indice 4"
   ]
  },
  {
   "cell_type": "code",
   "execution_count": 5,
   "metadata": {},
   "outputs": [
    {
     "name": "stdout",
     "output_type": "stream",
     "text": [
      "[99, 78, 10]\n"
     ]
    }
   ],
   "source": [
    "print(lista6[5:])"
   ]
  },
  {
   "cell_type": "code",
   "execution_count": 6,
   "metadata": {},
   "outputs": [
    {
     "name": "stdout",
     "output_type": "stream",
     "text": [
      "[33, 4, 6, 7, 8, 99, 78, 10]\n"
     ]
    }
   ],
   "source": [
    "lista6[0] = 33 # cambiar valor de la posicion 0\n",
    "print(lista6)"
   ]
  },
  {
   "cell_type": "code",
   "execution_count": 7,
   "metadata": {},
   "outputs": [
    {
     "name": "stdout",
     "output_type": "stream",
     "text": [
      "[33, 4, 6, 7, 8, 99, 78, 10, 12]\n"
     ]
    }
   ],
   "source": [
    "#agregar elementos a una lista a traves del elemento append\n",
    "\n",
    "lista6.append(12)\n",
    "print(lista6)"
   ]
  },
  {
   "cell_type": "code",
   "execution_count": 8,
   "metadata": {},
   "outputs": [
    {
     "name": "stdout",
     "output_type": "stream",
     "text": [
      "[33, 4, 6, 7, 8, 99, 78, 10, 12, [77, 88, 55]]\n"
     ]
    }
   ],
   "source": [
    "lista6.append([77, 88, 55])\n",
    "print(lista6)"
   ]
  }
 ],
 "metadata": {
  "kernelspec": {
   "display_name": "Python 3",
   "language": "python",
   "name": "python3"
  },
  "language_info": {
   "codemirror_mode": {
    "name": "ipython",
    "version": 3
   },
   "file_extension": ".py",
   "mimetype": "text/x-python",
   "name": "python",
   "nbconvert_exporter": "python",
   "pygments_lexer": "ipython3",
   "version": "3.12.1"
  }
 },
 "nbformat": 4,
 "nbformat_minor": 2
}
