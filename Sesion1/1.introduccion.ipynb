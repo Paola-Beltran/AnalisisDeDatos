{
 "cells": [
  {
   "cell_type": "code",
   "execution_count": 1,
   "metadata": {},
   "outputs": [
    {
     "name": "stdout",
     "output_type": "stream",
     "text": [
      "Hola\n"
     ]
    }
   ],
   "source": [
    "print(\"Hola\")"
   ]
  },
  {
   "cell_type": "code",
   "execution_count": 3,
   "metadata": {},
   "outputs": [
    {
     "name": "stdout",
     "output_type": "stream",
     "text": [
      "Falso\n",
      "hola\n"
     ]
    }
   ],
   "source": [
    "#Indentacion\n",
    "v1 = 3\n",
    "\n",
    "if v1 == 6:\n",
    "    print(\"verdadero\")\n",
    "    print(\"WWW\")\n",
    "else:\n",
    "    print(\"Falso\")\n",
    "\n",
    "#cuando se sale de la sangria ya no corresponde al bloque de codigo\n",
    "print(\"hola\")"
   ]
  },
  {
   "cell_type": "code",
   "execution_count": 4,
   "metadata": {},
   "outputs": [],
   "source": [
    "#Comentarios\n",
    "# Validar Variable1\n",
    "\n",
    "def my_func():\n",
    "    \"\"\"\n",
    "    esta funcion hace x cosa\n",
    "    variable entrada:\n",
    "    salida:\n",
    "    \"\"\"\n",
    "    pass"
   ]
  },
  {
   "cell_type": "code",
   "execution_count": 5,
   "metadata": {},
   "outputs": [],
   "source": [
    "# Variables en Python\n",
    "\n",
    "var1 = 5\n",
    "var2 = \"Datapath\"\n",
    "var3 = 2.0\n",
    "var4 = 4j"
   ]
  },
  {
   "cell_type": "code",
   "execution_count": 6,
   "metadata": {},
   "outputs": [
    {
     "name": "stdout",
     "output_type": "stream",
     "text": [
      "<class 'complex'>\n"
     ]
    }
   ],
   "source": [
    "print(type(var4))"
   ]
  },
  {
   "cell_type": "code",
   "execution_count": 7,
   "metadata": {},
   "outputs": [],
   "source": [
    "a, b, c = \"Manzana\", \"Platano\", \"Cereza\""
   ]
  },
  {
   "cell_type": "code",
   "execution_count": 11,
   "metadata": {},
   "outputs": [
    {
     "name": "stdout",
     "output_type": "stream",
     "text": [
      "Mundo\n",
      "Hola\n"
     ]
    }
   ],
   "source": [
    "# Variables locales\n",
    "\n",
    "x = \"Hola\"\n",
    "\n",
    "def my_func():\n",
    "    x = \"Mundo\" # Variable local solo en este contexto\n",
    "    print(x)\n",
    "\n",
    "my_func()\n",
    "print(x)"
   ]
  },
  {
   "cell_type": "code",
   "execution_count": 12,
   "metadata": {},
   "outputs": [],
   "source": [
    "# Tipos de datos en python\n",
    "# String\n",
    "# Numericos\n",
    "# Listas\n",
    "# Diccionarios\n",
    "# Tuplas\n"
   ]
  },
  {
   "cell_type": "code",
   "execution_count": 14,
   "metadata": {},
   "outputs": [
    {
     "name": "stdout",
     "output_type": "stream",
     "text": [
      "Hola Mundo\n",
      "a\n",
      "Hola \n"
     ]
    }
   ],
   "source": [
    "# String \n",
    "\n",
    "a_str = \"Hola Mundo\"\n",
    "print(a_str)\n",
    "print(a_str[3])\n",
    "print(a_str[0:5])"
   ]
  },
  {
   "cell_type": "code",
   "execution_count": 15,
   "metadata": {},
   "outputs": [],
   "source": [
    "# Tipos numericos\n",
    "\n",
    "a = 5\n",
    "b = 2.0\n",
    "c = 4j"
   ]
  },
  {
   "cell_type": "code",
   "execution_count": 16,
   "metadata": {},
   "outputs": [],
   "source": [
    "# Tipo de datos Listas\n",
    "lista1 = [3, 5, 7] # lista de enteros\n",
    "\n",
    "lista2 = [\"hola\", \"mundo\" ] #lista de Strings\n",
    "\n",
    "lista3 = [3, \"Hola\", 44.4, 5j] #lista mixta\n",
    "\n",
    "lista4 = [3, \"Hola\", 44.4, 5j, [1, 4, 6]] # lista anidada (una lista dentro de otra lista)\n",
    "\n",
    "lista5 = [] # lista vacia"
   ]
  },
  {
   "cell_type": "code",
   "execution_count": 17,
   "metadata": {},
   "outputs": [
    {
     "name": "stdout",
     "output_type": "stream",
     "text": [
      "3\n",
      "Hola\n",
      "44.4\n",
      "5j\n"
     ]
    }
   ],
   "source": [
    "# Operador de indice []\n",
    "\n",
    "print(lista3[0]) # Primer elemento\n",
    "print(lista3[1]) # Segundo elemento\n",
    "print(lista3[2]) # tercer elemento\n",
    "print(lista3[3]) # cuarto elemento"
   ]
  },
  {
   "cell_type": "code",
   "execution_count": 19,
   "metadata": {},
   "outputs": [
    {
     "name": "stdout",
     "output_type": "stream",
     "text": [
      "6\n"
     ]
    }
   ],
   "source": [
    "print(lista4[4][2])\n",
    "\n",
    "# Nota los indices deben ser enteros o de rango"
   ]
  },
  {
   "cell_type": "code",
   "execution_count": 20,
   "metadata": {},
   "outputs": [
    {
     "name": "stdout",
     "output_type": "stream",
     "text": [
      "5j\n"
     ]
    }
   ],
   "source": [
    "print(lista3[-1]) # se obtiene ultimo elemento de la lista, cuando se ponde - toma de izquierda a derecha"
   ]
  },
  {
   "cell_type": "code",
   "execution_count": 3,
   "metadata": {},
   "outputs": [
    {
     "name": "stdout",
     "output_type": "stream",
     "text": [
      "[4, 6, 7, 8]\n"
     ]
    }
   ],
   "source": [
    "lista6 = [1, 4, 6, 7, 8, 99, 78, 10]\n",
    "\n",
    "print(lista6[1:5]) # 1 es el primer valor indice inicial, pero el indice 5 es 99 sin embargo no lo imprime, cuando se ponde rango toma siempre el N-1 es decir hasta el indice 4"
   ]
  },
  {
   "cell_type": "code",
   "execution_count": 4,
   "metadata": {},
   "outputs": [
    {
     "name": "stdout",
     "output_type": "stream",
     "text": [
      "[99, 78, 10]\n"
     ]
    }
   ],
   "source": [
    "print(lista6[5:])"
   ]
  },
  {
   "cell_type": "code",
   "execution_count": 5,
   "metadata": {},
   "outputs": [
    {
     "name": "stdout",
     "output_type": "stream",
     "text": [
      "[33, 4, 6, 7, 8, 99, 78, 10]\n"
     ]
    }
   ],
   "source": [
    "lista6[0] = 33 # cambiar valor de la posicion 0\n",
    "print(lista6)"
   ]
  },
  {
   "cell_type": "code",
   "execution_count": 6,
   "metadata": {},
   "outputs": [
    {
     "name": "stdout",
     "output_type": "stream",
     "text": [
      "[33, 4, 6, 7, 8, 99, 78, 10, 12]\n"
     ]
    }
   ],
   "source": [
    "#agregar elementos a una lista a traves del elemento append\n",
    "\n",
    "lista6.append(12)\n",
    "print(lista6)"
   ]
  },
  {
   "cell_type": "code",
   "execution_count": null,
   "metadata": {},
   "outputs": [
    {
     "name": "stdout",
     "output_type": "stream",
     "text": [
      "[33, 4, 6, 7, 8, 99, 78, 10, 12, [77, 88, 55]]\n"
     ]
    }
   ],
   "source": [
    "lista6.append([77, 88, 55]) #append agrega la lista dentro de la otra lista, por eso queda en corchetes\n",
    "print(lista6)"
   ]
  },
  {
   "cell_type": "code",
   "execution_count": null,
   "metadata": {},
   "outputs": [
    {
     "name": "stdout",
     "output_type": "stream",
     "text": [
      "[33, 4, 6, 7, 8, 99, 78, 10, 12, [77, 88, 55], 77, 88, 55]\n"
     ]
    }
   ],
   "source": [
    "lista6.extend([77,88,55]) # extend agrega los numeros en la lista sin los corchetes\n",
    "print(lista6)"
   ]
  },
  {
   "cell_type": "code",
   "execution_count": null,
   "metadata": {},
   "outputs": [
    {
     "name": "stdout",
     "output_type": "stream",
     "text": [
      "33\n",
      "4\n",
      "6\n",
      "7\n",
      "8\n",
      "99\n",
      "78\n",
      "10\n",
      "12\n",
      "[77, 88, 55]\n",
      "77\n",
      "88\n",
      "55\n"
     ]
    }
   ],
   "source": [
    "for elem in lista6:\n",
    "    print(elem) # lo imprime como lista"
   ]
  },
  {
   "cell_type": "code",
   "execution_count": 10,
   "metadata": {},
   "outputs": [],
   "source": [
    "# Tuplas: son similares a las listas, la diferencia es que las duplas no permite editar o modificar la informacion despues de sesr asignado, por el contrario la lista si permite cambios\n",
    "# se diferencian tambien por que las tublas van entre ()\n",
    "\n",
    "tupla1 = () # tupla vacia\n",
    "\n",
    "tupla2 = (1, 4, 5) # tupla enteros\n",
    "\n",
    "tupla3 = (1, 4.0, \"hola\") # tupla mixta\n",
    "\n",
    "tupla4 = (\"manzana\", 1, 3j, [1,3,4], [6,7,8]) #tupla anidada\n"
   ]
  },
  {
   "cell_type": "code",
   "execution_count": 11,
   "metadata": {},
   "outputs": [
    {
     "name": "stdout",
     "output_type": "stream",
     "text": [
      "1\n"
     ]
    }
   ],
   "source": [
    "print(tupla2[0]) # traer el primer elemento de la tupla2"
   ]
  },
  {
   "cell_type": "code",
   "execution_count": 12,
   "metadata": {},
   "outputs": [
    {
     "ename": "TypeError",
     "evalue": "'tuple' object does not support item assignment",
     "output_type": "error",
     "traceback": [
      "\u001b[0;31m---------------------------------------------------------------------------\u001b[0m",
      "\u001b[0;31mTypeError\u001b[0m                                 Traceback (most recent call last)",
      "Cell \u001b[0;32mIn[12], line 1\u001b[0m\n\u001b[0;32m----> 1\u001b[0m \u001b[43mtupla2\u001b[49m\u001b[43m[\u001b[49m\u001b[38;5;241;43m0\u001b[39;49m\u001b[43m]\u001b[49m \u001b[38;5;241m=\u001b[39m \u001b[38;5;124m\"\u001b[39m\u001b[38;5;124mmundo\u001b[39m\u001b[38;5;124m\"\u001b[39m \u001b[38;5;66;03m# no permite modificacion\u001b[39;00m\n",
      "\u001b[0;31mTypeError\u001b[0m: 'tuple' object does not support item assignment"
     ]
    }
   ],
   "source": [
    "tupla2[0] = \"mundo\" # no permite modificacion"
   ]
  },
  {
   "cell_type": "code",
   "execution_count": 16,
   "metadata": {},
   "outputs": [
    {
     "name": "stdout",
     "output_type": "stream",
     "text": [
      "<class 'str'>\n"
     ]
    }
   ],
   "source": [
    "tupla = (\"hello\") # esto es una tupla\n",
    "print(type(tupla)) # type imprime que tipo de dato es "
   ]
  },
  {
   "cell_type": "code",
   "execution_count": null,
   "metadata": {},
   "outputs": [
    {
     "name": "stdout",
     "output_type": "stream",
     "text": [
      "<class 'tuple'>\n"
     ]
    }
   ],
   "source": [
    "tupla = (\"hello\",) # al agregar un elemento mas o simplemente poner la , imprime que es una typle\n",
    "print(type(tupla))"
   ]
  },
  {
   "cell_type": "code",
   "execution_count": null,
   "metadata": {},
   "outputs": [
    {
     "name": "stdout",
     "output_type": "stream",
     "text": [
      "<class 'tuple'>\n"
     ]
    }
   ],
   "source": [
    "tupla = \"a\", \"b\", \"c\" # los parentesis son opcionales, pero en la mayoria se usan \n",
    "print(type(tupla))"
   ]
  },
  {
   "cell_type": "code",
   "execution_count": 19,
   "metadata": {},
   "outputs": [
    {
     "name": "stdout",
     "output_type": "stream",
     "text": [
      "a\n",
      "b\n",
      "c\n"
     ]
    }
   ],
   "source": [
    "for elem in tupla:\n",
    "    print(elem)"
   ]
  },
  {
   "cell_type": "code",
   "execution_count": 20,
   "metadata": {},
   "outputs": [],
   "source": [
    "# Diccionarios: es una coleccion desordenada de elementos y cada elemento va a tener clave valor\n",
    "# se crean entre llaves {} y dentro de estas llaves se van a tener pares de clave/valor separadas por ,\n",
    "# las claves no es necesario que sean unicas, pueden repetirse\n",
    "\n",
    "dic1 = {} # vacio\n",
    "dic2 = {\n",
    "    1: \"hola\",\n",
    "    2: \"mundo\"\n",
    "}\n",
    "\n",
    "dic3 = {\n",
    "    'nombre': \"Juan\",\n",
    "    1: 2345\n",
    "}"
   ]
  },
  {
   "cell_type": "code",
   "execution_count": 21,
   "metadata": {},
   "outputs": [
    {
     "name": "stdout",
     "output_type": "stream",
     "text": [
      "<class 'dict'>\n"
     ]
    }
   ],
   "source": [
    "print(type(dic3))"
   ]
  },
  {
   "cell_type": "code",
   "execution_count": 22,
   "metadata": {},
   "outputs": [
    {
     "name": "stdout",
     "output_type": "stream",
     "text": [
      "Juan\n",
      "26\n"
     ]
    }
   ],
   "source": [
    "dict_persona = {\n",
    "    'nombre' : 'Juan',\n",
    "    'edad': 26\n",
    "}\n",
    "\n",
    "print(dict_persona['nombre'])\n",
    "print(dict_persona['edad'])"
   ]
  },
  {
   "cell_type": "code",
   "execution_count": 23,
   "metadata": {},
   "outputs": [
    {
     "ename": "KeyError",
     "evalue": "'direccion'",
     "output_type": "error",
     "traceback": [
      "\u001b[0;31m---------------------------------------------------------------------------\u001b[0m",
      "\u001b[0;31mKeyError\u001b[0m                                  Traceback (most recent call last)",
      "Cell \u001b[0;32mIn[23], line 3\u001b[0m\n\u001b[1;32m      1\u001b[0m \u001b[38;5;66;03m# que pasa si se quiere acceder a un valor que no se encuentra\u001b[39;00m\n\u001b[0;32m----> 3\u001b[0m \u001b[38;5;28mprint\u001b[39m(\u001b[43mdict_persona\u001b[49m\u001b[43m[\u001b[49m\u001b[38;5;124;43m'\u001b[39;49m\u001b[38;5;124;43mdireccion\u001b[39;49m\u001b[38;5;124;43m'\u001b[39;49m\u001b[43m]\u001b[49m)\n",
      "\u001b[0;31mKeyError\u001b[0m: 'direccion'"
     ]
    }
   ],
   "source": [
    "# que pasa si se quiere acceder a un valor que no se encuentra\n",
    "\n",
    "print(dict_persona['direccion'])"
   ]
  },
  {
   "cell_type": "code",
   "execution_count": 25,
   "metadata": {},
   "outputs": [
    {
     "name": "stdout",
     "output_type": "stream",
     "text": [
      "-\n"
     ]
    }
   ],
   "source": [
    "# los diccionarios son cambiantes, entonces para evitar que salga el error por que el dato ya no esta\n",
    "# hay un metodo para evitar esto llamado get, donde se solicita que traiga el dato pero si no encuentra imprime vacio o lo que se solicite ej: \"-\", null, etc\n",
    "\n",
    "\n",
    "print(dict_persona.get(\"direccion\",\"-\"))"
   ]
  },
  {
   "cell_type": "code",
   "execution_count": 27,
   "metadata": {},
   "outputs": [
    {
     "name": "stdout",
     "output_type": "stream",
     "text": [
      "Peru\n"
     ]
    }
   ],
   "source": [
    "dict_persona[\"direccion\"] = \"Peru\" # se puede agregar nuevos kits o editar\n",
    "print(dict_persona['direccion'])"
   ]
  },
  {
   "cell_type": "code",
   "execution_count": 28,
   "metadata": {},
   "outputs": [
    {
     "name": "stdout",
     "output_type": "stream",
     "text": [
      "nombre Juan\n",
      "edad 26\n",
      "direccion Peru\n"
     ]
    }
   ],
   "source": [
    "for key in dict_persona:\n",
    "    print(key, dict_persona[key])"
   ]
  },
  {
   "cell_type": "code",
   "execution_count": 31,
   "metadata": {},
   "outputs": [
    {
     "name": "stdout",
     "output_type": "stream",
     "text": [
      "condicion verdadera\n",
      "Variable mayor a 3, pero menor o igual a 5\n"
     ]
    }
   ],
   "source": [
    "# control de flujo\n",
    "\n",
    "var1 = 5\n",
    "\n",
    "if var1 > 3:\n",
    "    print(\"condicion verdadera\")\n",
    "    if var1 <= 5:\n",
    "        print(\"Variable mayor a 3, pero menor o igual a 5\")\n",
    "    else:\n",
    "        print(\"Variable mayor que 5\")\n",
    "else:\n",
    "    print(\"condicion Falsa\")"
   ]
  },
  {
   "cell_type": "code",
   "execution_count": 33,
   "metadata": {},
   "outputs": [
    {
     "name": "stdout",
     "output_type": "stream",
     "text": [
      "0\n",
      "1\n",
      "2\n",
      "3\n",
      "4\n",
      "10\n"
     ]
    }
   ],
   "source": [
    "# For ejecuta el bloque de codigo cuantas veces se solicite en el range, para este caso 5 veces\n",
    "suma = 0\n",
    "for num in range(5):\n",
    "    print(num)\n",
    "    suma = suma + num\n",
    "\n",
    "print(suma)"
   ]
  },
  {
   "cell_type": "code",
   "execution_count": 34,
   "metadata": {},
   "outputs": [
    {
     "name": "stdout",
     "output_type": "stream",
     "text": [
      "0\n",
      "1\n",
      "2\n",
      "3\n",
      "4\n",
      "5\n"
     ]
    }
   ],
   "source": [
    "# while se repite siempre que la condicion sea verdadera, cuando no se cumpla se detiene\n",
    "\n",
    "i = 0\n",
    "\n",
    "while i <= 5:\n",
    "    print(i)\n",
    "    i = i + 1"
   ]
  },
  {
   "cell_type": "code",
   "execution_count": 36,
   "metadata": {},
   "outputs": [
    {
     "name": "stdout",
     "output_type": "stream",
     "text": [
      "hola mundo\n",
      "name 'b' is not defined\n"
     ]
    }
   ],
   "source": [
    "try:\n",
    "    print(\"hola mundo\")\n",
    "    a = b / 0\n",
    "\n",
    "except Exception as e:\n",
    "    print(e)"
   ]
  },
  {
   "cell_type": "code",
   "execution_count": null,
   "metadata": {},
   "outputs": [
    {
     "name": "stdout",
     "output_type": "stream",
     "text": [
      "Hola Mundo\n"
     ]
    }
   ],
   "source": [
    "# las funciones permiten organizar el codigo, para que sea mas legible y organizado\n",
    "# caso donde exitan diferentes formatos\n",
    "\n",
    "def my_funct():\n",
    "    print(\"Hola Mundo\")\n",
    "\n",
    "my_funct()"
   ]
  },
  {
   "cell_type": "code",
   "execution_count": 38,
   "metadata": {},
   "outputs": [
    {
     "name": "stdout",
     "output_type": "stream",
     "text": [
      "Hola Juan\n",
      "Juan\n"
     ]
    }
   ],
   "source": [
    "def my_funct(nombre):\n",
    "    print(\"Hola\", nombre)\n",
    "    return nombre\n",
    "\n",
    "var1 = my_funct(\"Juan\")\n",
    "print(var1)"
   ]
  },
  {
   "cell_type": "code",
   "execution_count": 2,
   "metadata": {},
   "outputs": [
    {
     "name": "stdout",
     "output_type": "stream",
     "text": [
      "Hola mundo\n"
     ]
    }
   ],
   "source": [
    "saludo = lambda:\"Hola mundo\"\n",
    "\n",
    "print(saludo())"
   ]
  },
  {
   "cell_type": "code",
   "execution_count": 3,
   "metadata": {},
   "outputs": [
    {
     "name": "stdout",
     "output_type": "stream",
     "text": [
      "3\n"
     ]
    }
   ],
   "source": [
    "def suma(a, b):\n",
    "    return a + b\n",
    "\n",
    "print(suma(1,2))"
   ]
  },
  {
   "cell_type": "code",
   "execution_count": 4,
   "metadata": {},
   "outputs": [
    {
     "name": "stdout",
     "output_type": "stream",
     "text": [
      "9\n"
     ]
    }
   ],
   "source": [
    "suma = lambda a, b: a + b\n",
    "print(suma(4,5))"
   ]
  },
  {
   "cell_type": "code",
   "execution_count": 5,
   "metadata": {},
   "outputs": [],
   "source": [
    "# Funcion para eliminar duplicados de una lista\n",
    "# Funcion para buscar un elemento en una lista\n",
    "# Funcion para hallar el factorial de un numero\n",
    "# Funcion que sume numeros pares"
   ]
  },
  {
   "cell_type": "code",
   "execution_count": null,
   "metadata": {},
   "outputs": [
    {
     "name": "stdout",
     "output_type": "stream",
     "text": [
      "[1, 2, 3, 4, 5, 6, 7, 8, 9, 10]\n"
     ]
    }
   ],
   "source": [
    "# Funcion para eliminar duplicados de una lista\n",
    "# set elimina duplicados\n",
    "\n",
    "def eliminar_duplicados(lista): \n",
    "    return list(set(lista))\n",
    "\n",
    "lista = [1, 2, 3, 4, 4, 5, 6, 7, 7, 8, 9, 9, 9, 10]\n",
    "\n",
    "resultado = eliminar_duplicados(lista)\n",
    "\n",
    "print(resultado)"
   ]
  },
  {
   "cell_type": "code",
   "execution_count": 18,
   "metadata": {},
   "outputs": [
    {
     "name": "stdout",
     "output_type": "stream",
     "text": [
      "10\n"
     ]
    }
   ],
   "source": [
    "# Funcion para buscar un elemento en una lista\n",
    "# metodo index, permite localizar dentro de una lista un elemento especifico\n",
    "\n",
    "lista = [1, 2, 3, 4, 4, 5, 6, 7, 7, 8, 9, 9, 9, 10]\n",
    "print(lista.index(9))"
   ]
  },
  {
   "cell_type": "code",
   "execution_count": 25,
   "metadata": {},
   "outputs": [
    {
     "name": "stdout",
     "output_type": "stream",
     "text": [
      "El factorial de 10 es: 3628800\n"
     ]
    }
   ],
   "source": [
    "# Funcion para hallar el factorial de un numero\n",
    "\n",
    "import math\n",
    "\n",
    "numero = 10  \n",
    "resultado = math.factorial(numero)\n",
    "print(f\"El factorial de {numero} es: {resultado}\")\n"
   ]
  },
  {
   "cell_type": "code",
   "execution_count": 28,
   "metadata": {},
   "outputs": [
    {
     "name": "stdout",
     "output_type": "stream",
     "text": [
      "la suma de los pares es: 34\n"
     ]
    }
   ],
   "source": [
    "# Funcion que sume numeros pares\n",
    "\n",
    "def sumar_pares(var):\n",
    "    suma = 0\n",
    "\n",
    "    for numeros in lista:\n",
    "        if numeros % 2 == 0:\n",
    "            suma += numeros\n",
    "    return suma\n",
    "\n",
    "numeros = (1, 2, 3, 4, 4, 5, 6, 7, 7, 8, 9, 9, 9, 10)\n",
    "\n",
    "resultado = sumar_pares(numeros)\n",
    "print(\"la suma de los pares es:\" , resultado)"
   ]
  },
  {
   "cell_type": "code",
   "execution_count": null,
   "metadata": {},
   "outputs": [],
   "source": []
  }
 ],
 "metadata": {
  "kernelspec": {
   "display_name": "Python 3",
   "language": "python",
   "name": "python3"
  },
  "language_info": {
   "codemirror_mode": {
    "name": "ipython",
    "version": 3
   },
   "file_extension": ".py",
   "mimetype": "text/x-python",
   "name": "python",
   "nbconvert_exporter": "python",
   "pygments_lexer": "ipython3",
   "version": "3.12.1"
  }
 },
 "nbformat": 4,
 "nbformat_minor": 2
}
