{
 "cells": [
  {
   "cell_type": "code",
   "execution_count": null,
   "metadata": {},
   "outputs": [],
   "source": [
    "import pandas as pd\n",
    "from sqlalchemmy import create_engine"
   ]
  },
  {
   "cell_type": "code",
   "execution_count": null,
   "metadata": {},
   "outputs": [],
   "source": [
    "engine= create_engine(\"mysql://root:root10.0.1.118:3310/retail_db\")"
   ]
  },
  {
   "cell_type": "code",
   "execution_count": null,
   "metadata": {},
   "outputs": [],
   "source": [
    "conn = engine.connect()"
   ]
  },
  {
   "cell_type": "code",
   "execution_count": null,
   "metadata": {},
   "outputs": [],
   "source": [
    "customers = pd.read_sql_table('customers', engine)\n",
    "departments = pd.read_sql_table('departments', engine)\n",
    "categories = pd.read_sql_table('categories', engine)\n",
    "products = pd.read_sql_table('products', engine)\n",
    "orders = pd.read_sql_table('orders', engine)\n",
    "order_items = pd.read_sql_table('order_items', engine)"
   ]
  },
  {
   "cell_type": "markdown",
   "metadata": {},
   "source": [
    "1. Cuantos clientes hay registrados en total?\n",
    "2. Cuantos clientes hay por cada ciudad?\n",
    "3. cuantos clientes tienen el mismo apellido?"
   ]
  },
  {
   "cell_type": "code",
   "execution_count": null,
   "metadata": {},
   "outputs": [],
   "source": [
    "# Cuantos clientes hay registrados en total?\n",
    "total_clientes = customers['customer_id'].nunique() # nunique sirve para hacer analisis exploratorio y devulve clientes unicos\n",
    "print(f\"Total de clientes: (total_clientes)\")"
   ]
  },
  {
   "cell_type": "code",
   "execution_count": null,
   "metadata": {},
   "outputs": [],
   "source": [
    "# Cuantos clientes hay por cada ciudad?\n",
    "# En Python hay un metodo que se utiliza para saber con cuanta frecuencia aparece un valor (Value_counts)\n",
    "\n",
    "total_clientes_ciudad = customers['customer_city'].value_counts()\n",
    "print(f\"Clientes por ciudad: (total_clientes_ciudad)\")"
   ]
  },
  {
   "cell_type": "code",
   "execution_count": null,
   "metadata": {},
   "outputs": [],
   "source": [
    "# Cuentos clientes tienen el mismo apellido\n",
    "total_clientes_apellido = customers[\"customer_lname\"].value_counts\n",
    "total_clientes_apellido"
   ]
  },
  {
   "cell_type": "code",
   "execution_count": null,
   "metadata": {},
   "outputs": [],
   "source": [
    "# cuales son los productos mas caros y mas baratos\n",
    "\n",
    "producto_caro = products.loc[products[\"product_price\"].idxmamx()]\n",
    "producto_barato = products.loc[products[\"product_price\"].idxmin()]"
   ]
  },
  {
   "cell_type": "markdown",
   "metadata": {},
   "source": [
    "1. Cual es el producto mas vendido\n",
    "2. Cuales son los productos mas comparados por cada cliente\n",
    "3. Cual es el total gastado por cliente\n",
    "4. Cual es la categoria mas popular (terminos de venta)"
   ]
  },
  {
   "cell_type": "code",
   "execution_count": null,
   "metadata": {},
   "outputs": [],
   "source": [
    "# Cual es el producto mas vendido\n",
    "\n",
    "total_productos_vendidos = order_items.groupby('order_item_product_id')['order_item_quantity'].sum().idxmax() # se ponde nombre de la tabla y luego el del campo \n",
    "print(total_productos_vendidos) #Imprime el producto mas vendido \n",
    "\n",
    "producto_nombre = products.loc[products['product_id'] == total_productos_vendidos, 'products_name'] #para saber el nombre del producto mas vendido\n",
    "producto_nombre"
   ]
  },
  {
   "cell_type": "code",
   "execution_count": null,
   "metadata": {},
   "outputs": [],
   "source": [
    "# Cual es el total gastado por cliente\n",
    "\n",
    "total_gastado_por_cliente = order_items.merge(orders,left_on= 'order_item_order_id',right_on='order_id')\n",
    "total_gastado_por_cliente = total_gastado_por_cliente.groupby(\"order_customer_id\")['order_item_subtotal'].sum()\n",
    "total_gastado_por_cliente = total_gastado_por_cliente.merge(customers, left_on='order_customer_id', right_on='customer_id')\n",
    "total_gastado_por_cliente [['customer_fname', 'customer_lname', 'order_item_subtotal']].sort_values(by='order_item_subtotal', ascending=False)\n",
    "\n",
    "#Nota: el elemnto que se agrupa en groypby se convierte en un indice"
   ]
  },
  {
   "cell_type": "code",
   "execution_count": null,
   "metadata": {},
   "outputs": [],
   "source": [
    "# Cual es la categoria mas popular (termino de ventas)\n",
    "# se soliciona tambien con merge\n",
    "\n"
   ]
  },
  {
   "cell_type": "code",
   "execution_count": null,
   "metadata": {},
   "outputs": [],
   "source": [
    "# order_items / products / categories\n",
    "# merge / group by / sort_values() | idxmax"
   ]
  }
 ],
 "metadata": {
  "language_info": {
   "name": "python"
  }
 },
 "nbformat": 4,
 "nbformat_minor": 2
}
