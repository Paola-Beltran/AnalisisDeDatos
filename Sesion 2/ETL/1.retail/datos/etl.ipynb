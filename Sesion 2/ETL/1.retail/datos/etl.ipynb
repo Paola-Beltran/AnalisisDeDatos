{
 "cells": [
  {
   "cell_type": "code",
   "execution_count": null,
   "metadata": {},
   "outputs": [],
   "source": [
    "def transform_customers(df):\n",
    "    \"\"\"\n",
    "    \"\"\"\n",
    "    df['customer_email']= df['customer_email'].str.lower()\n",
    "\n",
    "    #validar campo obligatorios\n",
    "\n",
    "    # customer_fname true\n",
    "    # customer_lname false\n",
    "    # customer_email false\n",
    "    # any() devulve las columnas \n",
    "    # any().any() va a dar un true o false de los tres primeros comentarios\n",
    "    if df[['customer_fname','customer_lname','customer_email']].isnull().any():\n",
    "        print('Datos faltantes en el DataFrame de Customers')\n",
    "        sys.exit(1)\n",
    "    \n",
    "    return df"
   ]
  },
  {
   "cell_type": "code",
   "execution_count": 1,
   "metadata": {},
   "outputs": [
    {
     "ename": "NameError",
     "evalue": "name 'df_categories' is not defined",
     "output_type": "error",
     "traceback": [
      "\u001b[0;31m---------------------------------------------------------------------------\u001b[0m",
      "\u001b[0;31mNameError\u001b[0m                                 Traceback (most recent call last)",
      "Cell \u001b[0;32mIn[1], line 5\u001b[0m\n\u001b[1;32m      2\u001b[0m \u001b[38;5;250m    \u001b[39m\u001b[38;5;124;03m\"\"\"\u001b[39;00m\n\u001b[1;32m      3\u001b[0m \u001b[38;5;124;03m    \"\"\"\u001b[39;00m\n\u001b[1;32m      4\u001b[0m \u001b[38;5;66;03m#Asegurar que product_id exista en categories\u001b[39;00m\n\u001b[0;32m----> 5\u001b[0m valid_ids \u001b[38;5;241m=\u001b[39m \u001b[38;5;28mset\u001b[39m(\u001b[43mdf_categories\u001b[49m[\u001b[38;5;124m'\u001b[39m\u001b[38;5;124mcategory_id\u001b[39m\u001b[38;5;124m'\u001b[39m])\n\u001b[1;32m      7\u001b[0m \u001b[38;5;28;01mif\u001b[39;00m \u001b[38;5;129;01mnot\u001b[39;00m df[\u001b[38;5;124m'\u001b[39m\u001b[38;5;124mproduct_category_id\u001b[39m\u001b[38;5;124m'\u001b[39m]\u001b[38;5;241m.\u001b[39misin(valid_ids)\u001b[38;5;241m.\u001b[39mall():\n\u001b[1;32m      8\u001b[0m     \u001b[38;5;28mprint\u001b[39m(\u001b[38;5;124m\"\u001b[39m\u001b[38;5;124mHay product_category_id que no existen en category\u001b[39m\u001b[38;5;124m\"\u001b[39m)\n",
      "\u001b[0;31mNameError\u001b[0m: name 'df_categories' is not defined"
     ]
    }
   ],
   "source": [
    "def transform_products(df, df_categories):\n",
    "    \"\"\"\n",
    "    \"\"\"\n",
    "#Asegurar que product_id exista en categories\n",
    "valid_ids = set(df_categories['category_id'])\n",
    "\n",
    "if not df['product_category_id'].isin(valid_ids).all():\n",
    "    print(\"Hay product_category_id que no existen en category\")\n",
    "    sys.exit(1)\n",
    "\n",
    "return df"
   ]
  },
  {
   "cell_type": "code",
   "execution_count": null,
   "metadata": {},
   "outputs": [],
   "source": [
    "df_products = read_csv('../data_retail/products',[\"product_id\",\"product_id\",\"product_category_id\", \"product_name\",\n",
    "\"product_description\",\"product_price\",\"product_image\"])\n"
   ]
  },
  {
   "cell_type": "code",
   "execution_count": null,
   "metadata": {},
   "outputs": [],
   "source": [
    "def transform_order_items (df, df_orders, df_products):\n",
    "\n",
    "    #order_item_order_id exista en orders\n",
    "\n",
    "    valid_id = set(df_orders['order_id'])\n",
    "\n",
    "    if not df['order_item_product_id']"
   ]
  },
  {
   "cell_type": "code",
   "execution_count": 2,
   "metadata": {},
   "outputs": [],
   "source": [
    "def validate_ids(df_retail, df, id_retail, id_df ):\n",
    "\n",
    "    valid_ids = set(df[id_df])\n",
    "\n",
    "    if not df_retail[id_retail].isin(valid_ids).all():\n",
    "        print(\"Hay ids que no se encuentran en el DataFrame\")\n",
    "        sys.exit(1)"
   ]
  },
  {
   "cell_type": "code",
   "execution_count": null,
   "metadata": {},
   "outputs": [],
   "source": [
    "def transform_order_items(df, df_orders, df_products):\n",
    "\n",
    "    # order_item_order_id exista en orders\n",
    "\n",
    "    validate_ids(df,df_orders, 'order_item_order_id', 'order_id' )\n",
    "\n",
    "    # order_item_product_id exista en products\n",
    "\n",
    "    validate_ids(df,df_products, 'order_item_product_id', 'product_id' )\n",
    "\n",
    "    calculated_subtotal = df['order_item_quantity'] * df['order_item_product_price']\n",
    "\n",
    "    if not (df['order_item_subtotal']==)\n",
    "\n",
    "    return df"
   ]
  },
  {
   "cell_type": "code",
   "execution_count": 4,
   "metadata": {},
   "outputs": [],
   "source": [
    "def load_data (engine, table_name, df):\n",
    "    \"\"\"\n",
    "    \"\"\"\n",
    "\n",
    "    df.to_sql(name=table_name, con=engine, if_exists='replace', indec=false)"
   ]
  },
  {
   "cell_type": "code",
   "execution_count": null,
   "metadata": {},
   "outputs": [],
   "source": [
    "engine = create_db_engine(DATABASE_CONFIG)\n",
    "load_data(engine, 'categries_2', df_categories)"
   ]
  },
  {
   "cell_type": "code",
   "execution_count": null,
   "metadata": {},
   "outputs": [],
   "source": []
  }
 ],
 "metadata": {
  "kernelspec": {
   "display_name": "Python 3",
   "language": "python",
   "name": "python3"
  },
  "language_info": {
   "codemirror_mode": {
    "name": "ipython",
    "version": 3
   },
   "file_extension": ".py",
   "mimetype": "text/x-python",
   "name": "python",
   "nbconvert_exporter": "python",
   "pygments_lexer": "ipython3",
   "version": "3.12.1"
  }
 },
 "nbformat": 4,
 "nbformat_minor": 2
}
